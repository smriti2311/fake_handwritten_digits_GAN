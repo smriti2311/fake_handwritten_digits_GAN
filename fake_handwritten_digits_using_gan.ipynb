{
  "nbformat": 4,
  "nbformat_minor": 0,
  "metadata": {
    "kernelspec": {
      "language": "python",
      "display_name": "Python 3",
      "name": "python3"
    },
    "language_info": {
      "pygments_lexer": "ipython3",
      "nbconvert_exporter": "python",
      "version": "3.6.4",
      "file_extension": ".py",
      "codemirror_mode": {
        "name": "ipython",
        "version": 3
      },
      "name": "python",
      "mimetype": "text/x-python"
    },
    "colab": {
      "name": "fake-handwritten-digits-using-gan.ipynb",
      "provenance": []
    },
    "widgets": {
      "application/vnd.jupyter.widget-state+json": {
        "124a14c034704a41b233907b97b470f5": {
          "model_module": "@jupyter-widgets/controls",
          "model_name": "HBoxModel",
          "state": {
            "_view_name": "HBoxView",
            "_dom_classes": [],
            "_model_name": "HBoxModel",
            "_view_module": "@jupyter-widgets/controls",
            "_model_module_version": "1.5.0",
            "_view_count": null,
            "_view_module_version": "1.5.0",
            "box_style": "",
            "layout": "IPY_MODEL_d53227e365e145efa6a57f6f91994774",
            "_model_module": "@jupyter-widgets/controls",
            "children": [
              "IPY_MODEL_c8e20ffca0aa4cd5ad76fdcc9f4bd723",
              "IPY_MODEL_3011686c052c438a9d2c3a05cf7b9328"
            ]
          }
        },
        "d53227e365e145efa6a57f6f91994774": {
          "model_module": "@jupyter-widgets/base",
          "model_name": "LayoutModel",
          "state": {
            "_view_name": "LayoutView",
            "grid_template_rows": null,
            "right": null,
            "justify_content": null,
            "_view_module": "@jupyter-widgets/base",
            "overflow": null,
            "_model_module_version": "1.2.0",
            "_view_count": null,
            "flex_flow": null,
            "width": null,
            "min_width": null,
            "border": null,
            "align_items": null,
            "bottom": null,
            "_model_module": "@jupyter-widgets/base",
            "top": null,
            "grid_column": null,
            "overflow_y": null,
            "overflow_x": null,
            "grid_auto_flow": null,
            "grid_area": null,
            "grid_template_columns": null,
            "flex": null,
            "_model_name": "LayoutModel",
            "justify_items": null,
            "grid_row": null,
            "max_height": null,
            "align_content": null,
            "visibility": null,
            "align_self": null,
            "height": null,
            "min_height": null,
            "padding": null,
            "grid_auto_rows": null,
            "grid_gap": null,
            "max_width": null,
            "order": null,
            "_view_module_version": "1.2.0",
            "grid_template_areas": null,
            "object_position": null,
            "object_fit": null,
            "grid_auto_columns": null,
            "margin": null,
            "display": null,
            "left": null
          }
        },
        "c8e20ffca0aa4cd5ad76fdcc9f4bd723": {
          "model_module": "@jupyter-widgets/controls",
          "model_name": "FloatProgressModel",
          "state": {
            "_view_name": "ProgressView",
            "style": "IPY_MODEL_42bc1f7d8c0643ae9b5cfa84ba1d821d",
            "_dom_classes": [],
            "description": "",
            "_model_name": "FloatProgressModel",
            "bar_style": "success",
            "max": 1,
            "_view_module": "@jupyter-widgets/controls",
            "_model_module_version": "1.5.0",
            "value": 1,
            "_view_count": null,
            "_view_module_version": "1.5.0",
            "orientation": "horizontal",
            "min": 0,
            "description_tooltip": null,
            "_model_module": "@jupyter-widgets/controls",
            "layout": "IPY_MODEL_d80b994c2fe74e74bf14e34e86946c90"
          }
        },
        "3011686c052c438a9d2c3a05cf7b9328": {
          "model_module": "@jupyter-widgets/controls",
          "model_name": "HTMLModel",
          "state": {
            "_view_name": "HTMLView",
            "style": "IPY_MODEL_d878324b9e54471c9c6b071d49046c0a",
            "_dom_classes": [],
            "description": "",
            "_model_name": "HTMLModel",
            "placeholder": "​",
            "_view_module": "@jupyter-widgets/controls",
            "_model_module_version": "1.5.0",
            "value": " 9920512/? [00:05&lt;00:00, 1786874.93it/s]",
            "_view_count": null,
            "_view_module_version": "1.5.0",
            "description_tooltip": null,
            "_model_module": "@jupyter-widgets/controls",
            "layout": "IPY_MODEL_82f15e0a970845889b9bca14f380b14d"
          }
        },
        "42bc1f7d8c0643ae9b5cfa84ba1d821d": {
          "model_module": "@jupyter-widgets/controls",
          "model_name": "ProgressStyleModel",
          "state": {
            "_view_name": "StyleView",
            "_model_name": "ProgressStyleModel",
            "description_width": "initial",
            "_view_module": "@jupyter-widgets/base",
            "_model_module_version": "1.5.0",
            "_view_count": null,
            "_view_module_version": "1.2.0",
            "bar_color": null,
            "_model_module": "@jupyter-widgets/controls"
          }
        },
        "d80b994c2fe74e74bf14e34e86946c90": {
          "model_module": "@jupyter-widgets/base",
          "model_name": "LayoutModel",
          "state": {
            "_view_name": "LayoutView",
            "grid_template_rows": null,
            "right": null,
            "justify_content": null,
            "_view_module": "@jupyter-widgets/base",
            "overflow": null,
            "_model_module_version": "1.2.0",
            "_view_count": null,
            "flex_flow": null,
            "width": null,
            "min_width": null,
            "border": null,
            "align_items": null,
            "bottom": null,
            "_model_module": "@jupyter-widgets/base",
            "top": null,
            "grid_column": null,
            "overflow_y": null,
            "overflow_x": null,
            "grid_auto_flow": null,
            "grid_area": null,
            "grid_template_columns": null,
            "flex": null,
            "_model_name": "LayoutModel",
            "justify_items": null,
            "grid_row": null,
            "max_height": null,
            "align_content": null,
            "visibility": null,
            "align_self": null,
            "height": null,
            "min_height": null,
            "padding": null,
            "grid_auto_rows": null,
            "grid_gap": null,
            "max_width": null,
            "order": null,
            "_view_module_version": "1.2.0",
            "grid_template_areas": null,
            "object_position": null,
            "object_fit": null,
            "grid_auto_columns": null,
            "margin": null,
            "display": null,
            "left": null
          }
        },
        "d878324b9e54471c9c6b071d49046c0a": {
          "model_module": "@jupyter-widgets/controls",
          "model_name": "DescriptionStyleModel",
          "state": {
            "_view_name": "StyleView",
            "_model_name": "DescriptionStyleModel",
            "description_width": "",
            "_view_module": "@jupyter-widgets/base",
            "_model_module_version": "1.5.0",
            "_view_count": null,
            "_view_module_version": "1.2.0",
            "_model_module": "@jupyter-widgets/controls"
          }
        },
        "82f15e0a970845889b9bca14f380b14d": {
          "model_module": "@jupyter-widgets/base",
          "model_name": "LayoutModel",
          "state": {
            "_view_name": "LayoutView",
            "grid_template_rows": null,
            "right": null,
            "justify_content": null,
            "_view_module": "@jupyter-widgets/base",
            "overflow": null,
            "_model_module_version": "1.2.0",
            "_view_count": null,
            "flex_flow": null,
            "width": null,
            "min_width": null,
            "border": null,
            "align_items": null,
            "bottom": null,
            "_model_module": "@jupyter-widgets/base",
            "top": null,
            "grid_column": null,
            "overflow_y": null,
            "overflow_x": null,
            "grid_auto_flow": null,
            "grid_area": null,
            "grid_template_columns": null,
            "flex": null,
            "_model_name": "LayoutModel",
            "justify_items": null,
            "grid_row": null,
            "max_height": null,
            "align_content": null,
            "visibility": null,
            "align_self": null,
            "height": null,
            "min_height": null,
            "padding": null,
            "grid_auto_rows": null,
            "grid_gap": null,
            "max_width": null,
            "order": null,
            "_view_module_version": "1.2.0",
            "grid_template_areas": null,
            "object_position": null,
            "object_fit": null,
            "grid_auto_columns": null,
            "margin": null,
            "display": null,
            "left": null
          }
        },
        "189a364cba4c4e238d938e7f4e4816cf": {
          "model_module": "@jupyter-widgets/controls",
          "model_name": "HBoxModel",
          "state": {
            "_view_name": "HBoxView",
            "_dom_classes": [],
            "_model_name": "HBoxModel",
            "_view_module": "@jupyter-widgets/controls",
            "_model_module_version": "1.5.0",
            "_view_count": null,
            "_view_module_version": "1.5.0",
            "box_style": "",
            "layout": "IPY_MODEL_6b0ec2ea4d55405fa6e3cff946810e56",
            "_model_module": "@jupyter-widgets/controls",
            "children": [
              "IPY_MODEL_0acefa63872e43958f3a32aedeb4e190",
              "IPY_MODEL_4704bf26bb284885bf056426fd3441cd"
            ]
          }
        },
        "6b0ec2ea4d55405fa6e3cff946810e56": {
          "model_module": "@jupyter-widgets/base",
          "model_name": "LayoutModel",
          "state": {
            "_view_name": "LayoutView",
            "grid_template_rows": null,
            "right": null,
            "justify_content": null,
            "_view_module": "@jupyter-widgets/base",
            "overflow": null,
            "_model_module_version": "1.2.0",
            "_view_count": null,
            "flex_flow": null,
            "width": null,
            "min_width": null,
            "border": null,
            "align_items": null,
            "bottom": null,
            "_model_module": "@jupyter-widgets/base",
            "top": null,
            "grid_column": null,
            "overflow_y": null,
            "overflow_x": null,
            "grid_auto_flow": null,
            "grid_area": null,
            "grid_template_columns": null,
            "flex": null,
            "_model_name": "LayoutModel",
            "justify_items": null,
            "grid_row": null,
            "max_height": null,
            "align_content": null,
            "visibility": null,
            "align_self": null,
            "height": null,
            "min_height": null,
            "padding": null,
            "grid_auto_rows": null,
            "grid_gap": null,
            "max_width": null,
            "order": null,
            "_view_module_version": "1.2.0",
            "grid_template_areas": null,
            "object_position": null,
            "object_fit": null,
            "grid_auto_columns": null,
            "margin": null,
            "display": null,
            "left": null
          }
        },
        "0acefa63872e43958f3a32aedeb4e190": {
          "model_module": "@jupyter-widgets/controls",
          "model_name": "FloatProgressModel",
          "state": {
            "_view_name": "ProgressView",
            "style": "IPY_MODEL_3eb9f3dfc86f42eaa70e2610d7804f72",
            "_dom_classes": [],
            "description": "",
            "_model_name": "FloatProgressModel",
            "bar_style": "success",
            "max": 1,
            "_view_module": "@jupyter-widgets/controls",
            "_model_module_version": "1.5.0",
            "value": 1,
            "_view_count": null,
            "_view_module_version": "1.5.0",
            "orientation": "horizontal",
            "min": 0,
            "description_tooltip": null,
            "_model_module": "@jupyter-widgets/controls",
            "layout": "IPY_MODEL_c59a1c3629384b6490d873c93d35a1ce"
          }
        },
        "4704bf26bb284885bf056426fd3441cd": {
          "model_module": "@jupyter-widgets/controls",
          "model_name": "HTMLModel",
          "state": {
            "_view_name": "HTMLView",
            "style": "IPY_MODEL_b79d7011e91c41048c0e6fb0de84a794",
            "_dom_classes": [],
            "description": "",
            "_model_name": "HTMLModel",
            "placeholder": "​",
            "_view_module": "@jupyter-widgets/controls",
            "_model_module_version": "1.5.0",
            "value": " 32768/? [00:00&lt;00:00, 102069.75it/s]",
            "_view_count": null,
            "_view_module_version": "1.5.0",
            "description_tooltip": null,
            "_model_module": "@jupyter-widgets/controls",
            "layout": "IPY_MODEL_0d8402c4a0714ae3b68e84ed1017d125"
          }
        },
        "3eb9f3dfc86f42eaa70e2610d7804f72": {
          "model_module": "@jupyter-widgets/controls",
          "model_name": "ProgressStyleModel",
          "state": {
            "_view_name": "StyleView",
            "_model_name": "ProgressStyleModel",
            "description_width": "initial",
            "_view_module": "@jupyter-widgets/base",
            "_model_module_version": "1.5.0",
            "_view_count": null,
            "_view_module_version": "1.2.0",
            "bar_color": null,
            "_model_module": "@jupyter-widgets/controls"
          }
        },
        "c59a1c3629384b6490d873c93d35a1ce": {
          "model_module": "@jupyter-widgets/base",
          "model_name": "LayoutModel",
          "state": {
            "_view_name": "LayoutView",
            "grid_template_rows": null,
            "right": null,
            "justify_content": null,
            "_view_module": "@jupyter-widgets/base",
            "overflow": null,
            "_model_module_version": "1.2.0",
            "_view_count": null,
            "flex_flow": null,
            "width": null,
            "min_width": null,
            "border": null,
            "align_items": null,
            "bottom": null,
            "_model_module": "@jupyter-widgets/base",
            "top": null,
            "grid_column": null,
            "overflow_y": null,
            "overflow_x": null,
            "grid_auto_flow": null,
            "grid_area": null,
            "grid_template_columns": null,
            "flex": null,
            "_model_name": "LayoutModel",
            "justify_items": null,
            "grid_row": null,
            "max_height": null,
            "align_content": null,
            "visibility": null,
            "align_self": null,
            "height": null,
            "min_height": null,
            "padding": null,
            "grid_auto_rows": null,
            "grid_gap": null,
            "max_width": null,
            "order": null,
            "_view_module_version": "1.2.0",
            "grid_template_areas": null,
            "object_position": null,
            "object_fit": null,
            "grid_auto_columns": null,
            "margin": null,
            "display": null,
            "left": null
          }
        },
        "b79d7011e91c41048c0e6fb0de84a794": {
          "model_module": "@jupyter-widgets/controls",
          "model_name": "DescriptionStyleModel",
          "state": {
            "_view_name": "StyleView",
            "_model_name": "DescriptionStyleModel",
            "description_width": "",
            "_view_module": "@jupyter-widgets/base",
            "_model_module_version": "1.5.0",
            "_view_count": null,
            "_view_module_version": "1.2.0",
            "_model_module": "@jupyter-widgets/controls"
          }
        },
        "0d8402c4a0714ae3b68e84ed1017d125": {
          "model_module": "@jupyter-widgets/base",
          "model_name": "LayoutModel",
          "state": {
            "_view_name": "LayoutView",
            "grid_template_rows": null,
            "right": null,
            "justify_content": null,
            "_view_module": "@jupyter-widgets/base",
            "overflow": null,
            "_model_module_version": "1.2.0",
            "_view_count": null,
            "flex_flow": null,
            "width": null,
            "min_width": null,
            "border": null,
            "align_items": null,
            "bottom": null,
            "_model_module": "@jupyter-widgets/base",
            "top": null,
            "grid_column": null,
            "overflow_y": null,
            "overflow_x": null,
            "grid_auto_flow": null,
            "grid_area": null,
            "grid_template_columns": null,
            "flex": null,
            "_model_name": "LayoutModel",
            "justify_items": null,
            "grid_row": null,
            "max_height": null,
            "align_content": null,
            "visibility": null,
            "align_self": null,
            "height": null,
            "min_height": null,
            "padding": null,
            "grid_auto_rows": null,
            "grid_gap": null,
            "max_width": null,
            "order": null,
            "_view_module_version": "1.2.0",
            "grid_template_areas": null,
            "object_position": null,
            "object_fit": null,
            "grid_auto_columns": null,
            "margin": null,
            "display": null,
            "left": null
          }
        },
        "82fd279029fc4c4dbfd5b3f7c5e55d50": {
          "model_module": "@jupyter-widgets/controls",
          "model_name": "HBoxModel",
          "state": {
            "_view_name": "HBoxView",
            "_dom_classes": [],
            "_model_name": "HBoxModel",
            "_view_module": "@jupyter-widgets/controls",
            "_model_module_version": "1.5.0",
            "_view_count": null,
            "_view_module_version": "1.5.0",
            "box_style": "",
            "layout": "IPY_MODEL_d5aaced113fb449d8d22ae1bb026b501",
            "_model_module": "@jupyter-widgets/controls",
            "children": [
              "IPY_MODEL_bca98a9f2cfe473f8fc1121f02dfb7ce",
              "IPY_MODEL_979a82881d3c49d9a61bb903ec2ad3eb"
            ]
          }
        },
        "d5aaced113fb449d8d22ae1bb026b501": {
          "model_module": "@jupyter-widgets/base",
          "model_name": "LayoutModel",
          "state": {
            "_view_name": "LayoutView",
            "grid_template_rows": null,
            "right": null,
            "justify_content": null,
            "_view_module": "@jupyter-widgets/base",
            "overflow": null,
            "_model_module_version": "1.2.0",
            "_view_count": null,
            "flex_flow": null,
            "width": null,
            "min_width": null,
            "border": null,
            "align_items": null,
            "bottom": null,
            "_model_module": "@jupyter-widgets/base",
            "top": null,
            "grid_column": null,
            "overflow_y": null,
            "overflow_x": null,
            "grid_auto_flow": null,
            "grid_area": null,
            "grid_template_columns": null,
            "flex": null,
            "_model_name": "LayoutModel",
            "justify_items": null,
            "grid_row": null,
            "max_height": null,
            "align_content": null,
            "visibility": null,
            "align_self": null,
            "height": null,
            "min_height": null,
            "padding": null,
            "grid_auto_rows": null,
            "grid_gap": null,
            "max_width": null,
            "order": null,
            "_view_module_version": "1.2.0",
            "grid_template_areas": null,
            "object_position": null,
            "object_fit": null,
            "grid_auto_columns": null,
            "margin": null,
            "display": null,
            "left": null
          }
        },
        "bca98a9f2cfe473f8fc1121f02dfb7ce": {
          "model_module": "@jupyter-widgets/controls",
          "model_name": "FloatProgressModel",
          "state": {
            "_view_name": "ProgressView",
            "style": "IPY_MODEL_20dde0dcddeb4b6db65dc78baaf6abb9",
            "_dom_classes": [],
            "description": "",
            "_model_name": "FloatProgressModel",
            "bar_style": "success",
            "max": 1,
            "_view_module": "@jupyter-widgets/controls",
            "_model_module_version": "1.5.0",
            "value": 1,
            "_view_count": null,
            "_view_module_version": "1.5.0",
            "orientation": "horizontal",
            "min": 0,
            "description_tooltip": null,
            "_model_module": "@jupyter-widgets/controls",
            "layout": "IPY_MODEL_4f733a96a4e547b9a554a2a163cebf64"
          }
        },
        "979a82881d3c49d9a61bb903ec2ad3eb": {
          "model_module": "@jupyter-widgets/controls",
          "model_name": "HTMLModel",
          "state": {
            "_view_name": "HTMLView",
            "style": "IPY_MODEL_559c7c6037c84ba1a0d122a617b95994",
            "_dom_classes": [],
            "description": "",
            "_model_name": "HTMLModel",
            "placeholder": "​",
            "_view_module": "@jupyter-widgets/controls",
            "_model_module_version": "1.5.0",
            "value": " 1654784/? [00:03&lt;00:00, 447344.65it/s]",
            "_view_count": null,
            "_view_module_version": "1.5.0",
            "description_tooltip": null,
            "_model_module": "@jupyter-widgets/controls",
            "layout": "IPY_MODEL_c010648e6a9341339fcf35c560ef5125"
          }
        },
        "20dde0dcddeb4b6db65dc78baaf6abb9": {
          "model_module": "@jupyter-widgets/controls",
          "model_name": "ProgressStyleModel",
          "state": {
            "_view_name": "StyleView",
            "_model_name": "ProgressStyleModel",
            "description_width": "initial",
            "_view_module": "@jupyter-widgets/base",
            "_model_module_version": "1.5.0",
            "_view_count": null,
            "_view_module_version": "1.2.0",
            "bar_color": null,
            "_model_module": "@jupyter-widgets/controls"
          }
        },
        "4f733a96a4e547b9a554a2a163cebf64": {
          "model_module": "@jupyter-widgets/base",
          "model_name": "LayoutModel",
          "state": {
            "_view_name": "LayoutView",
            "grid_template_rows": null,
            "right": null,
            "justify_content": null,
            "_view_module": "@jupyter-widgets/base",
            "overflow": null,
            "_model_module_version": "1.2.0",
            "_view_count": null,
            "flex_flow": null,
            "width": null,
            "min_width": null,
            "border": null,
            "align_items": null,
            "bottom": null,
            "_model_module": "@jupyter-widgets/base",
            "top": null,
            "grid_column": null,
            "overflow_y": null,
            "overflow_x": null,
            "grid_auto_flow": null,
            "grid_area": null,
            "grid_template_columns": null,
            "flex": null,
            "_model_name": "LayoutModel",
            "justify_items": null,
            "grid_row": null,
            "max_height": null,
            "align_content": null,
            "visibility": null,
            "align_self": null,
            "height": null,
            "min_height": null,
            "padding": null,
            "grid_auto_rows": null,
            "grid_gap": null,
            "max_width": null,
            "order": null,
            "_view_module_version": "1.2.0",
            "grid_template_areas": null,
            "object_position": null,
            "object_fit": null,
            "grid_auto_columns": null,
            "margin": null,
            "display": null,
            "left": null
          }
        },
        "559c7c6037c84ba1a0d122a617b95994": {
          "model_module": "@jupyter-widgets/controls",
          "model_name": "DescriptionStyleModel",
          "state": {
            "_view_name": "StyleView",
            "_model_name": "DescriptionStyleModel",
            "description_width": "",
            "_view_module": "@jupyter-widgets/base",
            "_model_module_version": "1.5.0",
            "_view_count": null,
            "_view_module_version": "1.2.0",
            "_model_module": "@jupyter-widgets/controls"
          }
        },
        "c010648e6a9341339fcf35c560ef5125": {
          "model_module": "@jupyter-widgets/base",
          "model_name": "LayoutModel",
          "state": {
            "_view_name": "LayoutView",
            "grid_template_rows": null,
            "right": null,
            "justify_content": null,
            "_view_module": "@jupyter-widgets/base",
            "overflow": null,
            "_model_module_version": "1.2.0",
            "_view_count": null,
            "flex_flow": null,
            "width": null,
            "min_width": null,
            "border": null,
            "align_items": null,
            "bottom": null,
            "_model_module": "@jupyter-widgets/base",
            "top": null,
            "grid_column": null,
            "overflow_y": null,
            "overflow_x": null,
            "grid_auto_flow": null,
            "grid_area": null,
            "grid_template_columns": null,
            "flex": null,
            "_model_name": "LayoutModel",
            "justify_items": null,
            "grid_row": null,
            "max_height": null,
            "align_content": null,
            "visibility": null,
            "align_self": null,
            "height": null,
            "min_height": null,
            "padding": null,
            "grid_auto_rows": null,
            "grid_gap": null,
            "max_width": null,
            "order": null,
            "_view_module_version": "1.2.0",
            "grid_template_areas": null,
            "object_position": null,
            "object_fit": null,
            "grid_auto_columns": null,
            "margin": null,
            "display": null,
            "left": null
          }
        },
        "cd91552297694a1bbf52dcca013c64e1": {
          "model_module": "@jupyter-widgets/controls",
          "model_name": "HBoxModel",
          "state": {
            "_view_name": "HBoxView",
            "_dom_classes": [],
            "_model_name": "HBoxModel",
            "_view_module": "@jupyter-widgets/controls",
            "_model_module_version": "1.5.0",
            "_view_count": null,
            "_view_module_version": "1.5.0",
            "box_style": "",
            "layout": "IPY_MODEL_5ee6fa83b89c4a688a5d3ce54853c582",
            "_model_module": "@jupyter-widgets/controls",
            "children": [
              "IPY_MODEL_335f691e35524bd19cf645b033812cc9",
              "IPY_MODEL_9fcfb70ece904f47b53d2eb648677f97"
            ]
          }
        },
        "5ee6fa83b89c4a688a5d3ce54853c582": {
          "model_module": "@jupyter-widgets/base",
          "model_name": "LayoutModel",
          "state": {
            "_view_name": "LayoutView",
            "grid_template_rows": null,
            "right": null,
            "justify_content": null,
            "_view_module": "@jupyter-widgets/base",
            "overflow": null,
            "_model_module_version": "1.2.0",
            "_view_count": null,
            "flex_flow": null,
            "width": null,
            "min_width": null,
            "border": null,
            "align_items": null,
            "bottom": null,
            "_model_module": "@jupyter-widgets/base",
            "top": null,
            "grid_column": null,
            "overflow_y": null,
            "overflow_x": null,
            "grid_auto_flow": null,
            "grid_area": null,
            "grid_template_columns": null,
            "flex": null,
            "_model_name": "LayoutModel",
            "justify_items": null,
            "grid_row": null,
            "max_height": null,
            "align_content": null,
            "visibility": null,
            "align_self": null,
            "height": null,
            "min_height": null,
            "padding": null,
            "grid_auto_rows": null,
            "grid_gap": null,
            "max_width": null,
            "order": null,
            "_view_module_version": "1.2.0",
            "grid_template_areas": null,
            "object_position": null,
            "object_fit": null,
            "grid_auto_columns": null,
            "margin": null,
            "display": null,
            "left": null
          }
        },
        "335f691e35524bd19cf645b033812cc9": {
          "model_module": "@jupyter-widgets/controls",
          "model_name": "FloatProgressModel",
          "state": {
            "_view_name": "ProgressView",
            "style": "IPY_MODEL_2504112206ed4cdbb683416342108ef3",
            "_dom_classes": [],
            "description": "",
            "_model_name": "FloatProgressModel",
            "bar_style": "success",
            "max": 1,
            "_view_module": "@jupyter-widgets/controls",
            "_model_module_version": "1.5.0",
            "value": 1,
            "_view_count": null,
            "_view_module_version": "1.5.0",
            "orientation": "horizontal",
            "min": 0,
            "description_tooltip": null,
            "_model_module": "@jupyter-widgets/controls",
            "layout": "IPY_MODEL_57ae464159d34b33b149496b49323a9f"
          }
        },
        "9fcfb70ece904f47b53d2eb648677f97": {
          "model_module": "@jupyter-widgets/controls",
          "model_name": "HTMLModel",
          "state": {
            "_view_name": "HTMLView",
            "style": "IPY_MODEL_0f5dedd681bf457f816e64edc465112d",
            "_dom_classes": [],
            "description": "",
            "_model_name": "HTMLModel",
            "placeholder": "​",
            "_view_module": "@jupyter-widgets/controls",
            "_model_module_version": "1.5.0",
            "value": " 8192/? [00:02&lt;00:00, 3035.28it/s]",
            "_view_count": null,
            "_view_module_version": "1.5.0",
            "description_tooltip": null,
            "_model_module": "@jupyter-widgets/controls",
            "layout": "IPY_MODEL_a20065aaa0ec4d8abde27faeb670a050"
          }
        },
        "2504112206ed4cdbb683416342108ef3": {
          "model_module": "@jupyter-widgets/controls",
          "model_name": "ProgressStyleModel",
          "state": {
            "_view_name": "StyleView",
            "_model_name": "ProgressStyleModel",
            "description_width": "initial",
            "_view_module": "@jupyter-widgets/base",
            "_model_module_version": "1.5.0",
            "_view_count": null,
            "_view_module_version": "1.2.0",
            "bar_color": null,
            "_model_module": "@jupyter-widgets/controls"
          }
        },
        "57ae464159d34b33b149496b49323a9f": {
          "model_module": "@jupyter-widgets/base",
          "model_name": "LayoutModel",
          "state": {
            "_view_name": "LayoutView",
            "grid_template_rows": null,
            "right": null,
            "justify_content": null,
            "_view_module": "@jupyter-widgets/base",
            "overflow": null,
            "_model_module_version": "1.2.0",
            "_view_count": null,
            "flex_flow": null,
            "width": null,
            "min_width": null,
            "border": null,
            "align_items": null,
            "bottom": null,
            "_model_module": "@jupyter-widgets/base",
            "top": null,
            "grid_column": null,
            "overflow_y": null,
            "overflow_x": null,
            "grid_auto_flow": null,
            "grid_area": null,
            "grid_template_columns": null,
            "flex": null,
            "_model_name": "LayoutModel",
            "justify_items": null,
            "grid_row": null,
            "max_height": null,
            "align_content": null,
            "visibility": null,
            "align_self": null,
            "height": null,
            "min_height": null,
            "padding": null,
            "grid_auto_rows": null,
            "grid_gap": null,
            "max_width": null,
            "order": null,
            "_view_module_version": "1.2.0",
            "grid_template_areas": null,
            "object_position": null,
            "object_fit": null,
            "grid_auto_columns": null,
            "margin": null,
            "display": null,
            "left": null
          }
        },
        "0f5dedd681bf457f816e64edc465112d": {
          "model_module": "@jupyter-widgets/controls",
          "model_name": "DescriptionStyleModel",
          "state": {
            "_view_name": "StyleView",
            "_model_name": "DescriptionStyleModel",
            "description_width": "",
            "_view_module": "@jupyter-widgets/base",
            "_model_module_version": "1.5.0",
            "_view_count": null,
            "_view_module_version": "1.2.0",
            "_model_module": "@jupyter-widgets/controls"
          }
        },
        "a20065aaa0ec4d8abde27faeb670a050": {
          "model_module": "@jupyter-widgets/base",
          "model_name": "LayoutModel",
          "state": {
            "_view_name": "LayoutView",
            "grid_template_rows": null,
            "right": null,
            "justify_content": null,
            "_view_module": "@jupyter-widgets/base",
            "overflow": null,
            "_model_module_version": "1.2.0",
            "_view_count": null,
            "flex_flow": null,
            "width": null,
            "min_width": null,
            "border": null,
            "align_items": null,
            "bottom": null,
            "_model_module": "@jupyter-widgets/base",
            "top": null,
            "grid_column": null,
            "overflow_y": null,
            "overflow_x": null,
            "grid_auto_flow": null,
            "grid_area": null,
            "grid_template_columns": null,
            "flex": null,
            "_model_name": "LayoutModel",
            "justify_items": null,
            "grid_row": null,
            "max_height": null,
            "align_content": null,
            "visibility": null,
            "align_self": null,
            "height": null,
            "min_height": null,
            "padding": null,
            "grid_auto_rows": null,
            "grid_gap": null,
            "max_width": null,
            "order": null,
            "_view_module_version": "1.2.0",
            "grid_template_areas": null,
            "object_position": null,
            "object_fit": null,
            "grid_auto_columns": null,
            "margin": null,
            "display": null,
            "left": null
          }
        }
      }
    }
  },
  "cells": [
    {
      "cell_type": "code",
      "metadata": {
        "_uuid": "8f2839f25d086af736a60e9eeb907d3b93b6e0e5",
        "_cell_guid": "b1076dfc-b9ad-4769-8c92-a6c4dae69d19",
        "trusted": true,
        "id": "eLRMay36vJL8"
      },
      "source": [
        "# This Python 3 environment comes with many helpful analytics libraries installed\n",
        "# It is defined by the kaggle/python Docker image: https://github.com/kaggle/docker-python\n",
        "# For example, here's several helpful packages to load\n",
        " \n",
        "import numpy as np # linear algebra\n",
        "import pandas as pd # data processing, CSV file I/O (e.g. pd.read_csv)\n",
        " \n",
        "# Input data files are available in the read-only \"../input/\" directory\n",
        "# For example, running this (by clicking run or pressing Shift+Enter) will list all files under the input directory\n",
        " \n",
        "import os\n",
        "for dirname, _, filenames in os.walk('/kaggle/input'):\n",
        "    for filename in filenames:\n",
        "        print(os.path.join(dirname, filename))\n",
        " \n",
        "# You can write up to 5GB to the current directory (/kaggle/working/) that gets preserved as output when you create a version using \"Save & Run All\" \n",
        "# You can also write temporary files to /kaggle/temp/, but they won't be saved outside of the current session"
      ],
      "execution_count": null,
      "outputs": []
    },
    {
      "cell_type": "markdown",
      "metadata": {
        "_uuid": "d629ff2d2480ee46fbb7e2d37f6b5fab8052498a",
        "collapsed": true,
        "_cell_guid": "79c7e3d0-c299-4dcb-8224-4455121ee9b0",
        "trusted": false,
        "id": "8sZZXCUGvJMD"
      },
      "source": [
        "# Generative Adversarial Network\n",
        "\n",
        "In this notebook, we'll be building a generative adversarial network (GAN) trained on the MNIST dataset. From this, we'll be able to generate new handwritten digits!\n",
        "\n",
        "The idea behind GANs is that you have two networks, a generator $G$ and a discriminator $D$, competing against each other. The generator makes \"fake\" data to pass to the discriminator. The discriminator also sees real training data and predicts if the data it's received is real or fake.\n",
        "\n",
        "- The generator is trained to fool the discriminator, it wants to output data that looks as close as possible to real, training data.\n",
        "- The discriminator is a classifier that is trained to figure out which data is real and which is fake.\n",
        "\n",
        "What ends up happening is that the generator learns to make data that is indistinguishable from real data to the discriminator.\n",
        "\n",
        "<img src='https://raw.githubusercontent.com/ArpitFalcon/DeepLearning101/master/05%20-%20Generative%20Adverserial%20Networks/Lesson%2001%20-%20Intro%20to%20GAN/assets/gan_pipeline.png' width=70% />\n",
        "\n",
        "The general structure of a GAN is shown in the diagram above, using MNIST images as data. The latent sample is a random vector that the generator uses to construct its fake images. This is often called a latent vector and that vector space is called latent space. As the generator trains, it figures out how to map latent vectors to recognizable images that can fool the discriminator.\n",
        "\n",
        "If you're interested in generating only new images, you can throw out the discriminator after training. In this notebook, I'll show you how to define and train these adversarial networks in PyTorch and generate new images!"
      ]
    },
    {
      "cell_type": "code",
      "metadata": {
        "trusted": true,
        "id": "SH8ickYdvJME"
      },
      "source": [
        "# importing important libraries\n",
        "%matplotlib inline\n",
        "\n",
        "import numpy as np\n",
        "import torch\n",
        "import matplotlib.pyplot as plt"
      ],
      "execution_count": null,
      "outputs": []
    },
    {
      "cell_type": "code",
      "metadata": {
        "trusted": true,
        "id": "6ncloOSbvJMI",
        "colab": {
          "base_uri": "https://localhost:8080/",
          "height": 395,
          "referenced_widgets": [
            "124a14c034704a41b233907b97b470f5",
            "d53227e365e145efa6a57f6f91994774",
            "c8e20ffca0aa4cd5ad76fdcc9f4bd723",
            "3011686c052c438a9d2c3a05cf7b9328",
            "42bc1f7d8c0643ae9b5cfa84ba1d821d",
            "d80b994c2fe74e74bf14e34e86946c90",
            "d878324b9e54471c9c6b071d49046c0a",
            "82f15e0a970845889b9bca14f380b14d",
            "189a364cba4c4e238d938e7f4e4816cf",
            "6b0ec2ea4d55405fa6e3cff946810e56",
            "0acefa63872e43958f3a32aedeb4e190",
            "4704bf26bb284885bf056426fd3441cd",
            "3eb9f3dfc86f42eaa70e2610d7804f72",
            "c59a1c3629384b6490d873c93d35a1ce",
            "b79d7011e91c41048c0e6fb0de84a794",
            "0d8402c4a0714ae3b68e84ed1017d125",
            "82fd279029fc4c4dbfd5b3f7c5e55d50",
            "d5aaced113fb449d8d22ae1bb026b501",
            "bca98a9f2cfe473f8fc1121f02dfb7ce",
            "979a82881d3c49d9a61bb903ec2ad3eb",
            "20dde0dcddeb4b6db65dc78baaf6abb9",
            "4f733a96a4e547b9a554a2a163cebf64",
            "559c7c6037c84ba1a0d122a617b95994",
            "c010648e6a9341339fcf35c560ef5125",
            "cd91552297694a1bbf52dcca013c64e1",
            "5ee6fa83b89c4a688a5d3ce54853c582",
            "335f691e35524bd19cf645b033812cc9",
            "9fcfb70ece904f47b53d2eb648677f97",
            "2504112206ed4cdbb683416342108ef3",
            "57ae464159d34b33b149496b49323a9f",
            "0f5dedd681bf457f816e64edc465112d",
            "a20065aaa0ec4d8abde27faeb670a050"
          ]
        },
        "outputId": "b759443c-8d01-4c4d-a82a-43fe0f0ff85d"
      },
      "source": [
        "from torchvision import datasets\n",
        "import torchvision.transforms as transforms\n",
        "\n",
        "# number of subprocesses to use for data loading\n",
        "num_workers = 0\n",
        "# how many samples per batch to load\n",
        "batch_size = 64\n",
        "\n",
        "# convert data to torch.FloatTensor\n",
        "transform = transforms.ToTensor()\n",
        "\n",
        "# get the training datasets\n",
        "train_data = datasets.MNIST(root='data', train=True,\n",
        "                                   download=True, transform=transform)\n",
        "\n",
        "# prepare data loader\n",
        "train_loader = torch.utils.data.DataLoader(train_data, batch_size=batch_size,\n",
        "                                           num_workers=num_workers)"
      ],
      "execution_count": null,
      "outputs": [
        {
          "output_type": "stream",
          "text": [
            "Downloading http://yann.lecun.com/exdb/mnist/train-images-idx3-ubyte.gz to data/MNIST/raw/train-images-idx3-ubyte.gz\n"
          ],
          "name": "stdout"
        },
        {
          "output_type": "display_data",
          "data": {
            "application/vnd.jupyter.widget-view+json": {
              "model_id": "124a14c034704a41b233907b97b470f5",
              "version_minor": 0,
              "version_major": 2
            },
            "text/plain": [
              "HBox(children=(FloatProgress(value=1.0, bar_style='info', max=1.0), HTML(value='')))"
            ]
          },
          "metadata": {
            "tags": []
          }
        },
        {
          "output_type": "stream",
          "text": [
            "Extracting data/MNIST/raw/train-images-idx3-ubyte.gz to data/MNIST/raw\n",
            "Downloading http://yann.lecun.com/exdb/mnist/train-labels-idx1-ubyte.gz to data/MNIST/raw/train-labels-idx1-ubyte.gz\n"
          ],
          "name": "stdout"
        },
        {
          "output_type": "display_data",
          "data": {
            "application/vnd.jupyter.widget-view+json": {
              "model_id": "189a364cba4c4e238d938e7f4e4816cf",
              "version_minor": 0,
              "version_major": 2
            },
            "text/plain": [
              "HBox(children=(FloatProgress(value=1.0, bar_style='info', max=1.0), HTML(value='')))"
            ]
          },
          "metadata": {
            "tags": []
          }
        },
        {
          "output_type": "stream",
          "text": [
            "Extracting data/MNIST/raw/train-labels-idx1-ubyte.gz to data/MNIST/raw\n",
            "Downloading http://yann.lecun.com/exdb/mnist/t10k-images-idx3-ubyte.gz to data/MNIST/raw/t10k-images-idx3-ubyte.gz\n",
            "\n"
          ],
          "name": "stdout"
        },
        {
          "output_type": "display_data",
          "data": {
            "application/vnd.jupyter.widget-view+json": {
              "model_id": "82fd279029fc4c4dbfd5b3f7c5e55d50",
              "version_minor": 0,
              "version_major": 2
            },
            "text/plain": [
              "HBox(children=(FloatProgress(value=1.0, bar_style='info', max=1.0), HTML(value='')))"
            ]
          },
          "metadata": {
            "tags": []
          }
        },
        {
          "output_type": "stream",
          "text": [
            "Extracting data/MNIST/raw/t10k-images-idx3-ubyte.gz to data/MNIST/raw\n",
            "Downloading http://yann.lecun.com/exdb/mnist/t10k-labels-idx1-ubyte.gz to data/MNIST/raw/t10k-labels-idx1-ubyte.gz\n"
          ],
          "name": "stdout"
        },
        {
          "output_type": "display_data",
          "data": {
            "application/vnd.jupyter.widget-view+json": {
              "model_id": "cd91552297694a1bbf52dcca013c64e1",
              "version_minor": 0,
              "version_major": 2
            },
            "text/plain": [
              "HBox(children=(FloatProgress(value=1.0, bar_style='info', max=1.0), HTML(value='')))"
            ]
          },
          "metadata": {
            "tags": []
          }
        },
        {
          "output_type": "stream",
          "text": [
            "Extracting data/MNIST/raw/t10k-labels-idx1-ubyte.gz to data/MNIST/raw\n",
            "Processing...\n",
            "Done!\n"
          ],
          "name": "stdout"
        },
        {
          "output_type": "stream",
          "text": [
            "/usr/local/lib/python3.6/dist-packages/torchvision/datasets/mnist.py:469: UserWarning: The given NumPy array is not writeable, and PyTorch does not support non-writeable tensors. This means you can write to the underlying (supposedly non-writeable) NumPy array using the tensor. You may want to copy the array to protect its data or make it writeable before converting it to a tensor. This type of warning will be suppressed for the rest of this program. (Triggered internally at  /pytorch/torch/csrc/utils/tensor_numpy.cpp:141.)\n",
            "  return torch.from_numpy(parsed.astype(m[2], copy=False)).view(*s)\n"
          ],
          "name": "stderr"
        }
      ]
    },
    {
      "cell_type": "code",
      "metadata": {
        "trusted": true,
        "id": "a-kADIhEvJMO",
        "colab": {
          "base_uri": "https://localhost:8080/",
          "height": 265
        },
        "outputId": "8e8c7d66-0759-4290-bad6-144f63a09e56"
      },
      "source": [
        "# obtain one batch of training images\n",
        "dataiter = iter(train_loader)\n",
        "images, labels = dataiter.next()\n",
        "images = images.numpy()\n",
        "\n",
        "# get one image from the batch\n",
        "img = np.squeeze(images[0])\n",
        "\n",
        "fig = plt.figure(figsize = (3,3)) \n",
        "ax = fig.add_subplot(111)\n",
        "ax.imshow(img, cmap='gray')"
      ],
      "execution_count": null,
      "outputs": [
        {
          "output_type": "stream",
          "text": [
            "\n"
          ],
          "name": "stdout"
        },
        {
          "output_type": "execute_result",
          "data": {
            "text/plain": [
              "<matplotlib.image.AxesImage at 0x7f48abe15978>"
            ]
          },
          "metadata": {
            "tags": []
          },
          "execution_count": 4
        },
        {
          "output_type": "stream",
          "text": [
            "\n",
            "\n"
          ],
          "name": "stdout"
        },
        {
          "output_type": "display_data",
          "data": {
            "image/png": "[encoded data removed]",
            "text/plain": [
              "<Figure size 216x216 with 1 Axes>"
            ]
          },
          "metadata": {
            "tags": [],
            "needs_background": "light"
          }
        }
      ]
    },
    {
      "cell_type": "markdown",
      "metadata": {
        "id": "tCEfrha3vJMS"
      },
      "source": [
        "## Define the model\n",
        "A GAN is comprised of two adversarial networks, a discriminator and a generator.\n",
        "\n",
        "### Discriminator\n",
        "The discriminator network is going to be a pretty typical linear classifier. To make this network a universal function approximator, we'll need at least one hidden layer, and these hidden layers should have one key attribute:\n",
        "\n",
        "- All hidden layers will have a [Leaky ReLu](https://pytorch.org/docs/stable/nn.html#torch.nn.LeakyReLU) activation function applied to their outputs.\n",
        "\n",
        "<img src='https://raw.githubusercontent.com/ArpitFalcon/DeepLearning101/master/05%20-%20Generative%20Adverserial%20Networks/Lesson%2001%20-%20Intro%20to%20GAN/assets/gan_network.png' width=70% />\n",
        "\n",
        "#### Leaky ReLu\n",
        "We should use a leaky ReLU to allow gradients to flow backwards through the layer unimpeded. A leaky ReLU is like a normal ReLU, except that there is a small non-zero output for negative input values.\n",
        "<img src='https://raw.githubusercontent.com/ArpitFalcon/DeepLearning101/master/05%20-%20Generative%20Adverserial%20Networks/Lesson%2001%20-%20Intro%20to%20GAN/assets/leaky_relu.png' width=40% />\n",
        "\n",
        "#### Sigmoid Output\n",
        "We'll also take the approach of using a more numerically stable loss function on the outputs. Recall that we want the discriminator to output a value 0-1 indicating whether an image is real or fake.\n",
        "\n",
        "#### BCEwithLogitsLoss\n",
        "We will ultimately use [BCEWithLogitsLoss](https://pytorch.org/docs/stable/nn.html#bcewithlogitsloss), which combines a sigmoid activation function and binary cross entropy loss in one function. So our final output should not have any activation function.\n"
      ]
    },
    {
      "cell_type": "code",
      "metadata": {
        "trusted": true,
        "id": "KtQc8yq_vJMT"
      },
      "source": [
        "import torch.nn as nn\n",
        "import torch.nn.functional as F\n",
        "\n",
        "class Discriminator(nn.Module):\n",
        "\n",
        "    def __init__(self, input_size, hidden_dim, output_size):\n",
        "        super(Discriminator, self).__init__()\n",
        "        \n",
        "        # define hidden linear layers\n",
        "        self.fc1 = nn.Linear(input_size, hidden_dim*4)\n",
        "        self.fc2 = nn.Linear(hidden_dim*4, hidden_dim*2)\n",
        "        self.fc3 = nn.Linear(hidden_dim*2, hidden_dim)\n",
        "        \n",
        "        # final fully-connected layer\n",
        "        self.fc4 = nn.Linear(hidden_dim, output_size)\n",
        "        \n",
        "        # dropout layer \n",
        "        self.dropout = nn.Dropout(0.3)\n",
        "        \n",
        "        \n",
        "    def forward(self, x):\n",
        "        \n",
        "        # flatten image\n",
        "        x = x.view(-1, 28*28)\n",
        "        \n",
        "        # all hidden layers\n",
        "        x = F.leaky_relu(self.fc1(x), 0.2) # (input, negative_slope=0.2)\n",
        "        x = self.dropout(x)\n",
        "        x = F.leaky_relu(self.fc2(x), 0.2)\n",
        "        x = self.dropout(x)\n",
        "        x = F.leaky_relu(self.fc3(x), 0.2)\n",
        "        x = self.dropout(x)\n",
        "        \n",
        "        # final layer\n",
        "        out = self.fc4(x)\n",
        "\n",
        "        return out"
      ],
      "execution_count": null,
      "outputs": []
    },
    {
      "cell_type": "markdown",
      "metadata": {
        "id": "y10rpaTfvJMX"
      },
      "source": [
        "### Generator\n",
        "The generator network will be almost exactly the same as the discriminator network, except that we're applying a [tanh](https://pytorch.org/docs/stable/nn.html#tanh) activation function to our output layer.\n",
        "\n",
        "#### tanh Output\n",
        "The generator has been found to perform the best with $tanh$ for the generator output, which scales the output to be between -1 and 1, instead of 0 and 1.\n",
        "<img src='https://raw.githubusercontent.com/ArpitFalcon/DeepLearning101/master/05%20-%20Generative%20Adverserial%20Networks/Lesson%2001%20-%20Intro%20to%20GAN/assets/tanh_fn.png' width=40% />\n",
        "\n"
      ]
    },
    {
      "cell_type": "code",
      "metadata": {
        "trusted": true,
        "id": "GiKTTLO2vJMY"
      },
      "source": [
        "class Generator(nn.Module):\n",
        "\n",
        "    def __init__(self, input_size, hidden_dim, output_size):\n",
        "        super(Generator, self).__init__()\n",
        "        \n",
        "        # define hidden linear layers\n",
        "        self.fc1 = nn.Linear(input_size, hidden_dim)\n",
        "        self.fc2 = nn.Linear(hidden_dim, hidden_dim*2)\n",
        "        self.fc3 = nn.Linear(hidden_dim*2, hidden_dim*4)\n",
        "        \n",
        "        # final fully-connected layer\n",
        "        self.fc4 = nn.Linear(hidden_dim*4, output_size)\n",
        "        \n",
        "        # dropout layer \n",
        "        self.dropout = nn.Dropout(0.3)\n",
        "\n",
        "    def forward(self, x):\n",
        "        \n",
        "        # all hidden layers\n",
        "        x = F.leaky_relu(self.fc1(x), 0.2) # (input, negative_slope=0.2)\n",
        "        x = self.dropout(x)\n",
        "        x = F.leaky_relu(self.fc2(x), 0.2)\n",
        "        x = self.dropout(x)\n",
        "        x = F.leaky_relu(self.fc3(x), 0.2)\n",
        "        x = self.dropout(x)\n",
        "        \n",
        "        # final layer with tanh applied\n",
        "        out = F.tanh(self.fc4(x))\n",
        "\n",
        "        return out"
      ],
      "execution_count": null,
      "outputs": []
    },
    {
      "cell_type": "markdown",
      "metadata": {
        "id": "ANp2URGIvJMd"
      },
      "source": [
        "## Model Hyperparameters"
      ]
    },
    {
      "cell_type": "code",
      "metadata": {
        "trusted": true,
        "id": "Bhxc_HqevJMf"
      },
      "source": [
        "# Discriminator hyperparams\n",
        "\n",
        "# Size of input image to discriminator (28*28)\n",
        "input_size = 784\n",
        "# Size of discriminator output (real or fake)\n",
        "d_output_size = 1\n",
        "# Size of last hidden layer in the discriminator\n",
        "d_hidden_size = 32\n",
        "\n",
        "# Generator hyperparams\n",
        "\n",
        "# Size of latent vector to give to generator\n",
        "z_size = 100\n",
        "# Size of discriminator output (generated image)\n",
        "g_output_size = 784\n",
        "# Size of first hidden layer in the generator\n",
        "g_hidden_size = 32"
      ],
      "execution_count": null,
      "outputs": []
    },
    {
      "cell_type": "markdown",
      "metadata": {
        "id": "Upp1yJ-kvJMj"
      },
      "source": [
        "## Build Complete Network\n",
        "Now we're instantiating the discriminator and generator from the classes defined above."
      ]
    },
    {
      "cell_type": "code",
      "metadata": {
        "trusted": true,
        "id": "A7jDnYNtvJMj"
      },
      "source": [
        "# instantiate discriminator and generator\n",
        "D = Discriminator(input_size, d_hidden_size, d_output_size)\n",
        "G = Generator(z_size, g_hidden_size, g_output_size)"
      ],
      "execution_count": null,
      "outputs": []
    },
    {
      "cell_type": "markdown",
      "metadata": {
        "id": "jiilRJa0vJMn"
      },
      "source": [
        "### Discriminator and Generator Losses\n",
        "Now we need to calculate the losses.\n",
        "\n",
        "\n",
        "#### Discriminator Losses\n",
        "For the discriminator, the total loss is the sum of the losses for real and fake images, d_loss = d_real_loss + d_fake_loss.\n",
        "\n",
        "\n",
        "#### Generator Losses\n",
        "The generator loss will look similar only with flipped labels. The generator's goal is to get D(fake_images) = 1. In this case, the labels are flipped to represent that the generator is trying to fool the discriminator into thinking that the images it generates (fakes) are real!"
      ]
    },
    {
      "cell_type": "code",
      "metadata": {
        "trusted": true,
        "id": "mZ-oVAT0vJMo"
      },
      "source": [
        "# Calculate losses\n",
        "\n",
        "def real_loss(D_out, smooth=False):\n",
        "    batch_size = D_out.size(0)\n",
        "    \n",
        "    # label smoothing\n",
        "    if smooth:\n",
        "        # smooth, real labels = 0.9\n",
        "        labels = torch.ones(batch_size)*0.9\n",
        "    else:\n",
        "        labels = torch.ones(batch_size) # real labels = 1\n",
        "        \n",
        "    # numerically stable loss\n",
        "    criterion = nn.BCEWithLogitsLoss()\n",
        "    \n",
        "    # calculate loss\n",
        "    loss = criterion(D_out.squeeze(), labels)\n",
        "    return loss\n",
        "\n",
        "\n",
        "def fake_loss(D_out):\n",
        "    batch_size = D_out.size(0)\n",
        "    \n",
        "    labels = torch.zeros(batch_size) # fake labels = 0\n",
        "    criterion = nn.BCEWithLogitsLoss()\n",
        "    \n",
        "    # calculate loss\n",
        "    loss = criterion(D_out.squeeze(), labels)\n",
        "    return loss"
      ],
      "execution_count": null,
      "outputs": []
    },
    {
      "cell_type": "markdown",
      "metadata": {
        "id": "I9gX1pZzvJMr"
      },
      "source": [
        "### Optimizers\n",
        "We want to update the generator and discriminator variables separately. So, we'll define two separate Adam optimizers."
      ]
    },
    {
      "cell_type": "code",
      "metadata": {
        "trusted": true,
        "id": "8FioBJh1vJMs"
      },
      "source": [
        "import torch.optim as optim\n",
        "\n",
        "# Optimizers\n",
        "lr = 0.002\n",
        "\n",
        "# Create optimizers for the discriminator and generator\n",
        "d_optimizer = optim.Adam(D.parameters(), lr)\n",
        "g_optimizer = optim.Adam(G.parameters(), lr)"
      ],
      "execution_count": null,
      "outputs": []
    },
    {
      "cell_type": "markdown",
      "metadata": {
        "id": "ZxWYcgRmvJMw"
      },
      "source": [
        "### Training\n",
        "Training will involve alternating between training the discriminator and the generator. We'll use our functions real_loss and fake_loss to help us calculate the discriminator losses in all of the following cases.\n",
        "\n",
        "#### Discriminator training\n",
        "- Compute the discriminator loss on real, training images\n",
        "- Generate fake images\n",
        "- Compute the discriminator loss on fake, generated images\n",
        "- Add up real and fake loss\n",
        "- Perform backpropagation + an optimization step to update the discriminator's weights\n",
        "\n",
        "\n",
        "#### Generator training\n",
        "- Generate fake images\n",
        "- Compute the discriminator loss on fake images, using flipped labels!\n",
        "- Perform backpropagation + an optimization step to update the generator's weights\n",
        "\n",
        "\n",
        "##### Saving Samples\n",
        "As we train, we'll also print out some loss statistics and save some generated \"fake\" samples."
      ]
    },
    {
      "cell_type": "code",
      "metadata": {
        "trusted": true,
        "id": "6YRKOY9lvJMx",
        "colab": {
          "base_uri": "https://localhost:8080/",
          "height": 1000
        },
        "outputId": "cddc5a85-7962-4c4e-f36a-fb54ae7a3327"
      },
      "source": [
        "import pickle as pkl\n",
        "\n",
        "# training hyperparams\n",
        "num_epochs = 100\n",
        "\n",
        "# keep track of loss and generated, \"fake\" samples\n",
        "samples = []\n",
        "losses = []\n",
        "\n",
        "print_every = 400\n",
        "\n",
        "# Get some fixed data for sampling. These are images that are held\n",
        "# constant throughout training, and allow us to inspect the model's performance\n",
        "sample_size=16\n",
        "fixed_z = np.random.uniform(-1, 1, size=(sample_size, z_size))\n",
        "fixed_z = torch.from_numpy(fixed_z).float()\n",
        "\n",
        "# train the network\n",
        "D.train()\n",
        "G.train()\n",
        "for epoch in range(num_epochs):\n",
        "    \n",
        "    for batch_i, (real_images, _) in enumerate(train_loader):\n",
        "                \n",
        "        batch_size = real_images.size(0)\n",
        "        \n",
        "        ## Important rescaling step ## \n",
        "        real_images = real_images*2 - 1  # rescale input images from [0,1) to [-1, 1)\n",
        "        \n",
        "        # ============================================\n",
        "        #            TRAIN THE DISCRIMINATOR\n",
        "        # ============================================\n",
        "        \n",
        "        d_optimizer.zero_grad()\n",
        "        \n",
        "        # 1. Train with real images\n",
        "\n",
        "        # Compute the discriminator losses on real images \n",
        "        # smooth the real labels\n",
        "        D_real = D(real_images)\n",
        "        d_real_loss = real_loss(D_real, smooth=True)\n",
        "        \n",
        "        # 2. Train with fake images\n",
        "        \n",
        "        # Generate fake images\n",
        "        z = np.random.uniform(-1, 1, size=(batch_size, z_size))\n",
        "        z = torch.from_numpy(z).float()\n",
        "        fake_images = G(z)\n",
        "        \n",
        "        # Compute the discriminator losses on fake images        \n",
        "        D_fake = D(fake_images)\n",
        "        d_fake_loss = fake_loss(D_fake)\n",
        "        \n",
        "        # add up loss and perform backprop\n",
        "        d_loss = d_real_loss + d_fake_loss\n",
        "        d_loss.backward()\n",
        "        d_optimizer.step()\n",
        "        \n",
        "        \n",
        "        # =========================================\n",
        "        #            TRAIN THE GENERATOR\n",
        "        # =========================================\n",
        "        g_optimizer.zero_grad()\n",
        "        \n",
        "        # 1. Train with fake images and flipped labels\n",
        "        \n",
        "        # Generate fake images\n",
        "        z = np.random.uniform(-1, 1, size=(batch_size, z_size))\n",
        "        z = torch.from_numpy(z).float()\n",
        "        fake_images = G(z)\n",
        "        \n",
        "        # Compute the discriminator losses on fake images \n",
        "        # using flipped labels!\n",
        "        D_fake = D(fake_images)\n",
        "        g_loss = real_loss(D_fake) # use real loss to flip labels\n",
        "        \n",
        "        # perform backprop\n",
        "        g_loss.backward()\n",
        "        g_optimizer.step()\n",
        "\n",
        "        # Print some loss stats\n",
        "        if batch_i % print_every == 0:\n",
        "            # print discriminator and generator loss\n",
        "            print('Epoch [{:5d}/{:5d}] | d_loss: {:6.4f} | g_loss: {:6.4f}'.format(\n",
        "                    epoch+1, num_epochs, d_loss.item(), g_loss.item()))\n",
        "\n",
        "    \n",
        "    ## AFTER EACH EPOCH##\n",
        "    # append discriminator loss and generator loss\n",
        "    losses.append((d_loss.item(), g_loss.item()))\n",
        "    \n",
        "    # generate and save sample, fake images\n",
        "    G.eval() # eval mode for generating samples\n",
        "    samples_z = G(fixed_z)\n",
        "    samples.append(samples_z)\n",
        "    G.train() # back to train mode\n",
        "\n",
        "\n",
        "# Save training generator samples\n",
        "with open('train_samples.pkl', 'wb') as f:\n",
        "    pkl.dump(samples, f)"
      ],
      "execution_count": null,
      "outputs": [
        {
          "output_type": "stream",
          "text": [
            "/usr/local/lib/python3.6/dist-packages/torch/nn/functional.py:1614: UserWarning: nn.functional.tanh is deprecated. Use torch.tanh instead.\n",
            "  warnings.warn(\"nn.functional.tanh is deprecated. Use torch.tanh instead.\")\n"
          ],
          "name": "stderr"
        },
        {
          "output_type": "stream",
          "text": [
            "Epoch [    1/  100] | d_loss: 1.4343 | g_loss: 0.7508\n",
            "Epoch [    1/  100] | d_loss: 1.7382 | g_loss: 0.5565\n",
            "Epoch [    1/  100] | d_loss: 1.0415 | g_loss: 2.6669\n",
            "Epoch [    2/  100] | d_loss: 1.0882 | g_loss: 1.4112\n",
            "Epoch [    2/  100] | d_loss: 1.1620 | g_loss: 1.4851\n",
            "Epoch [    2/  100] | d_loss: 1.4096 | g_loss: 0.8083\n",
            "Epoch [    3/  100] | d_loss: 1.3117 | g_loss: 1.5175\n",
            "Epoch [    3/  100] | d_loss: 1.1891 | g_loss: 1.0142\n",
            "Epoch [    3/  100] | d_loss: 1.1694 | g_loss: 1.5725\n",
            "Epoch [    4/  100] | d_loss: 1.3514 | g_loss: 0.8921\n",
            "Epoch [    4/  100] | d_loss: 1.6673 | g_loss: 0.7435\n",
            "Epoch [    4/  100] | d_loss: 1.1931 | g_loss: 1.5628\n",
            "Epoch [    5/  100] | d_loss: 1.1857 | g_loss: 1.4392\n",
            "Epoch [    5/  100] | d_loss: 1.1519 | g_loss: 1.7370\n",
            "Epoch [    5/  100] | d_loss: 1.2121 | g_loss: 2.5363\n",
            "Epoch [    6/  100] | d_loss: 1.1290 | g_loss: 1.5313\n",
            "Epoch [    6/  100] | d_loss: 1.0943 | g_loss: 1.2313\n",
            "Epoch [    6/  100] | d_loss: 1.3494 | g_loss: 0.9889\n",
            "Epoch [    7/  100] | d_loss: 1.1913 | g_loss: 1.4791\n",
            "Epoch [    7/  100] | d_loss: 0.9565 | g_loss: 1.5523\n",
            "Epoch [    7/  100] | d_loss: 1.1122 | g_loss: 1.3970\n",
            "Epoch [    8/  100] | d_loss: 1.0880 | g_loss: 1.3672\n",
            "Epoch [    8/  100] | d_loss: 0.9282 | g_loss: 2.0857\n",
            "Epoch [    8/  100] | d_loss: 1.1503 | g_loss: 1.1532\n",
            "Epoch [    9/  100] | d_loss: 1.2038 | g_loss: 1.0190\n",
            "Epoch [    9/  100] | d_loss: 1.1068 | g_loss: 1.1116\n",
            "Epoch [    9/  100] | d_loss: 1.1635 | g_loss: 1.4481\n",
            "Epoch [   10/  100] | d_loss: 1.2452 | g_loss: 1.3361\n",
            "Epoch [   10/  100] | d_loss: 1.1215 | g_loss: 1.0591\n",
            "Epoch [   10/  100] | d_loss: 1.3086 | g_loss: 0.9164\n",
            "Epoch [   11/  100] | d_loss: 1.1751 | g_loss: 1.3024\n",
            "Epoch [   11/  100] | d_loss: 1.1993 | g_loss: 1.1608\n",
            "Epoch [   11/  100] | d_loss: 1.2536 | g_loss: 1.4556\n",
            "Epoch [   12/  100] | d_loss: 1.2094 | g_loss: 0.9284\n",
            "Epoch [   12/  100] | d_loss: 1.3409 | g_loss: 1.1237\n",
            "Epoch [   12/  100] | d_loss: 1.3467 | g_loss: 1.0130\n",
            "Epoch [   13/  100] | d_loss: 1.2627 | g_loss: 1.0765\n",
            "Epoch [   13/  100] | d_loss: 1.1924 | g_loss: 1.0909\n",
            "Epoch [   13/  100] | d_loss: 1.2900 | g_loss: 1.0719\n",
            "Epoch [   14/  100] | d_loss: 1.2375 | g_loss: 0.9349\n",
            "Epoch [   14/  100] | d_loss: 1.2442 | g_loss: 1.0264\n",
            "Epoch [   14/  100] | d_loss: 1.3942 | g_loss: 1.0901\n",
            "Epoch [   15/  100] | d_loss: 1.2835 | g_loss: 1.1115\n",
            "Epoch [   15/  100] | d_loss: 1.3278 | g_loss: 1.1720\n",
            "Epoch [   15/  100] | d_loss: 1.4366 | g_loss: 0.9367\n",
            "Epoch [   16/  100] | d_loss: 1.2640 | g_loss: 0.8917\n",
            "Epoch [   16/  100] | d_loss: 1.3279 | g_loss: 1.0270\n",
            "Epoch [   16/  100] | d_loss: 1.3701 | g_loss: 1.0267\n",
            "Epoch [   17/  100] | d_loss: 1.2875 | g_loss: 1.0724\n",
            "Epoch [   17/  100] | d_loss: 1.2816 | g_loss: 0.9130\n",
            "Epoch [   17/  100] | d_loss: 1.3108 | g_loss: 0.9372\n",
            "Epoch [   18/  100] | d_loss: 1.2602 | g_loss: 0.9816\n",
            "Epoch [   18/  100] | d_loss: 1.2406 | g_loss: 1.3311\n",
            "Epoch [   18/  100] | d_loss: 1.2741 | g_loss: 0.9450\n",
            "Epoch [   19/  100] | d_loss: 1.3376 | g_loss: 0.9320\n",
            "Epoch [   19/  100] | d_loss: 1.3034 | g_loss: 1.3194\n",
            "Epoch [   19/  100] | d_loss: 1.2986 | g_loss: 0.9857\n",
            "Epoch [   20/  100] | d_loss: 1.3222 | g_loss: 1.1085\n",
            "Epoch [   20/  100] | d_loss: 1.2788 | g_loss: 1.4149\n",
            "Epoch [   20/  100] | d_loss: 1.3332 | g_loss: 1.0656\n",
            "Epoch [   21/  100] | d_loss: 1.3407 | g_loss: 0.9569\n",
            "Epoch [   21/  100] | d_loss: 1.2119 | g_loss: 1.1604\n",
            "Epoch [   21/  100] | d_loss: 1.4227 | g_loss: 0.9372\n",
            "Epoch [   22/  100] | d_loss: 1.2662 | g_loss: 1.1215\n",
            "Epoch [   22/  100] | d_loss: 1.3436 | g_loss: 1.0173\n",
            "Epoch [   22/  100] | d_loss: 1.2823 | g_loss: 0.8556\n",
            "Epoch [   23/  100] | d_loss: 1.2537 | g_loss: 0.8360\n",
            "Epoch [   23/  100] | d_loss: 1.2922 | g_loss: 0.9025\n",
            "Epoch [   23/  100] | d_loss: 1.2759 | g_loss: 1.0895\n",
            "Epoch [   24/  100] | d_loss: 1.3092 | g_loss: 1.1264\n",
            "Epoch [   24/  100] | d_loss: 1.3486 | g_loss: 1.0226\n",
            "Epoch [   24/  100] | d_loss: 1.3208 | g_loss: 0.7545\n",
            "Epoch [   25/  100] | d_loss: 1.2731 | g_loss: 1.0371\n",
            "Epoch [   25/  100] | d_loss: 1.5826 | g_loss: 0.9188\n",
            "Epoch [   25/  100] | d_loss: 1.4382 | g_loss: 0.9044\n",
            "Epoch [   26/  100] | d_loss: 1.2359 | g_loss: 1.0063\n",
            "Epoch [   26/  100] | d_loss: 1.3257 | g_loss: 1.0573\n",
            "Epoch [   26/  100] | d_loss: 1.3818 | g_loss: 0.8246\n",
            "Epoch [   27/  100] | d_loss: 1.2717 | g_loss: 0.9158\n",
            "Epoch [   27/  100] | d_loss: 1.2632 | g_loss: 1.0537\n",
            "Epoch [   27/  100] | d_loss: 1.2992 | g_loss: 1.2811\n",
            "Epoch [   28/  100] | d_loss: 1.2298 | g_loss: 0.8789\n",
            "Epoch [   28/  100] | d_loss: 1.3277 | g_loss: 0.9889\n",
            "Epoch [   28/  100] | d_loss: 1.1934 | g_loss: 1.1113\n",
            "Epoch [   29/  100] | d_loss: 1.3797 | g_loss: 0.8270\n",
            "Epoch [   29/  100] | d_loss: 1.2677 | g_loss: 0.9482\n",
            "Epoch [   29/  100] | d_loss: 1.2938 | g_loss: 1.1689\n",
            "Epoch [   30/  100] | d_loss: 1.2908 | g_loss: 0.9059\n",
            "Epoch [   30/  100] | d_loss: 1.2394 | g_loss: 0.8515\n",
            "Epoch [   30/  100] | d_loss: 1.3643 | g_loss: 0.9133\n",
            "Epoch [   31/  100] | d_loss: 1.2965 | g_loss: 0.9061\n",
            "Epoch [   31/  100] | d_loss: 1.2496 | g_loss: 0.9754\n",
            "Epoch [   31/  100] | d_loss: 1.3825 | g_loss: 0.9770\n",
            "Epoch [   32/  100] | d_loss: 1.3497 | g_loss: 0.8075\n",
            "Epoch [   32/  100] | d_loss: 1.3557 | g_loss: 1.0381\n",
            "Epoch [   32/  100] | d_loss: 1.3053 | g_loss: 1.0637\n",
            "Epoch [   33/  100] | d_loss: 1.2715 | g_loss: 0.8590\n",
            "Epoch [   33/  100] | d_loss: 1.3124 | g_loss: 0.7479\n",
            "Epoch [   33/  100] | d_loss: 1.4033 | g_loss: 0.9559\n",
            "Epoch [   34/  100] | d_loss: 1.3179 | g_loss: 0.9437\n",
            "Epoch [   34/  100] | d_loss: 1.2776 | g_loss: 0.9354\n",
            "Epoch [   34/  100] | d_loss: 1.2868 | g_loss: 1.1054\n",
            "Epoch [   35/  100] | d_loss: 1.3815 | g_loss: 0.8771\n",
            "Epoch [   35/  100] | d_loss: 1.2749 | g_loss: 1.0202\n",
            "Epoch [   35/  100] | d_loss: 1.3116 | g_loss: 1.1639\n",
            "Epoch [   36/  100] | d_loss: 1.3041 | g_loss: 0.9738\n",
            "Epoch [   36/  100] | d_loss: 1.3381 | g_loss: 1.0050\n",
            "Epoch [   36/  100] | d_loss: 1.2944 | g_loss: 1.2563\n",
            "Epoch [   37/  100] | d_loss: 1.4182 | g_loss: 1.0481\n",
            "Epoch [   37/  100] | d_loss: 1.3165 | g_loss: 0.9762\n",
            "Epoch [   37/  100] | d_loss: 1.3810 | g_loss: 0.8074\n",
            "Epoch [   38/  100] | d_loss: 1.2923 | g_loss: 0.9149\n",
            "Epoch [   38/  100] | d_loss: 1.2375 | g_loss: 0.9425\n",
            "Epoch [   38/  100] | d_loss: 1.2607 | g_loss: 1.0248\n",
            "Epoch [   39/  100] | d_loss: 1.3829 | g_loss: 0.8376\n",
            "Epoch [   39/  100] | d_loss: 1.2958 | g_loss: 0.8254\n",
            "Epoch [   39/  100] | d_loss: 1.3599 | g_loss: 1.0177\n",
            "Epoch [   40/  100] | d_loss: 1.3638 | g_loss: 0.7832\n",
            "Epoch [   40/  100] | d_loss: 1.2330 | g_loss: 0.9449\n",
            "Epoch [   40/  100] | d_loss: 1.1971 | g_loss: 1.7578\n",
            "Epoch [   41/  100] | d_loss: 1.2876 | g_loss: 0.8899\n",
            "Epoch [   41/  100] | d_loss: 1.2700 | g_loss: 0.9418\n",
            "Epoch [   41/  100] | d_loss: 1.3584 | g_loss: 0.9572\n",
            "Epoch [   42/  100] | d_loss: 1.2420 | g_loss: 0.9563\n",
            "Epoch [   42/  100] | d_loss: 1.3522 | g_loss: 0.7890\n",
            "Epoch [   42/  100] | d_loss: 1.3272 | g_loss: 1.0912\n",
            "Epoch [   43/  100] | d_loss: 1.3213 | g_loss: 0.8945\n",
            "Epoch [   43/  100] | d_loss: 1.3004 | g_loss: 1.1201\n",
            "Epoch [   43/  100] | d_loss: 1.3073 | g_loss: 0.9000\n",
            "Epoch [   44/  100] | d_loss: 1.3106 | g_loss: 0.8872\n",
            "Epoch [   44/  100] | d_loss: 1.3782 | g_loss: 0.9689\n",
            "Epoch [   44/  100] | d_loss: 1.3546 | g_loss: 1.0705\n",
            "Epoch [   45/  100] | d_loss: 1.4053 | g_loss: 0.9756\n",
            "Epoch [   45/  100] | d_loss: 1.2657 | g_loss: 0.9853\n",
            "Epoch [   45/  100] | d_loss: 1.3401 | g_loss: 1.1572\n",
            "Epoch [   46/  100] | d_loss: 1.3233 | g_loss: 0.9288\n",
            "Epoch [   46/  100] | d_loss: 1.2153 | g_loss: 0.9288\n",
            "Epoch [   46/  100] | d_loss: 1.4067 | g_loss: 0.8770\n",
            "Epoch [   47/  100] | d_loss: 1.2558 | g_loss: 0.9557\n",
            "Epoch [   47/  100] | d_loss: 1.2796 | g_loss: 1.1315\n",
            "Epoch [   47/  100] | d_loss: 1.3274 | g_loss: 1.2531\n",
            "Epoch [   48/  100] | d_loss: 1.2164 | g_loss: 0.9087\n",
            "Epoch [   48/  100] | d_loss: 1.2502 | g_loss: 0.9447\n",
            "Epoch [   48/  100] | d_loss: 1.3985 | g_loss: 0.9616\n",
            "Epoch [   49/  100] | d_loss: 1.3976 | g_loss: 1.0235\n",
            "Epoch [   49/  100] | d_loss: 1.2996 | g_loss: 1.0793\n",
            "Epoch [   49/  100] | d_loss: 1.2995 | g_loss: 1.0842\n",
            "Epoch [   50/  100] | d_loss: 1.2209 | g_loss: 1.0840\n",
            "Epoch [   50/  100] | d_loss: 1.3297 | g_loss: 0.8603\n",
            "Epoch [   50/  100] | d_loss: 1.3282 | g_loss: 0.8856\n",
            "Epoch [   51/  100] | d_loss: 1.2259 | g_loss: 1.1508\n",
            "Epoch [   51/  100] | d_loss: 1.2496 | g_loss: 1.2897\n",
            "Epoch [   51/  100] | d_loss: 1.3239 | g_loss: 1.1349\n",
            "Epoch [   52/  100] | d_loss: 1.2695 | g_loss: 1.2061\n",
            "Epoch [   52/  100] | d_loss: 1.2588 | g_loss: 1.1804\n",
            "Epoch [   52/  100] | d_loss: 1.3188 | g_loss: 0.9635\n",
            "Epoch [   53/  100] | d_loss: 1.2542 | g_loss: 1.3151\n",
            "Epoch [   53/  100] | d_loss: 1.3607 | g_loss: 0.9037\n",
            "Epoch [   53/  100] | d_loss: 1.3978 | g_loss: 1.3136\n",
            "Epoch [   54/  100] | d_loss: 1.2131 | g_loss: 1.2835\n",
            "Epoch [   54/  100] | d_loss: 1.2132 | g_loss: 1.0192\n",
            "Epoch [   54/  100] | d_loss: 1.4101 | g_loss: 0.8494\n",
            "Epoch [   55/  100] | d_loss: 1.3559 | g_loss: 1.1311\n",
            "Epoch [   55/  100] | d_loss: 1.3340 | g_loss: 1.0714\n",
            "Epoch [   55/  100] | d_loss: 1.3523 | g_loss: 1.0348\n",
            "Epoch [   56/  100] | d_loss: 1.3176 | g_loss: 1.2236\n",
            "Epoch [   56/  100] | d_loss: 1.2651 | g_loss: 0.9628\n",
            "Epoch [   56/  100] | d_loss: 1.3280 | g_loss: 0.9884\n",
            "Epoch [   57/  100] | d_loss: 1.2697 | g_loss: 1.1523\n",
            "Epoch [   57/  100] | d_loss: 1.2324 | g_loss: 0.9882\n",
            "Epoch [   57/  100] | d_loss: 1.4022 | g_loss: 0.9799\n",
            "Epoch [   58/  100] | d_loss: 1.3365 | g_loss: 0.8141\n",
            "Epoch [   58/  100] | d_loss: 1.2837 | g_loss: 0.9501\n",
            "Epoch [   58/  100] | d_loss: 1.3917 | g_loss: 0.9178\n",
            "Epoch [   59/  100] | d_loss: 1.2659 | g_loss: 1.0509\n",
            "Epoch [   59/  100] | d_loss: 1.2299 | g_loss: 0.9605\n",
            "Epoch [   59/  100] | d_loss: 1.3471 | g_loss: 0.9565\n",
            "Epoch [   60/  100] | d_loss: 1.3766 | g_loss: 0.8954\n",
            "Epoch [   60/  100] | d_loss: 1.2911 | g_loss: 0.8873\n",
            "Epoch [   60/  100] | d_loss: 1.3309 | g_loss: 0.9016\n",
            "Epoch [   61/  100] | d_loss: 1.3295 | g_loss: 1.0848\n",
            "Epoch [   61/  100] | d_loss: 1.3215 | g_loss: 0.9855\n",
            "Epoch [   61/  100] | d_loss: 1.1467 | g_loss: 1.7313\n",
            "Epoch [   62/  100] | d_loss: 1.1703 | g_loss: 1.2701\n",
            "Epoch [   62/  100] | d_loss: 1.2233 | g_loss: 0.8870\n",
            "Epoch [   62/  100] | d_loss: 1.3760 | g_loss: 1.5440\n",
            "Epoch [   63/  100] | d_loss: 1.2954 | g_loss: 0.9184\n",
            "Epoch [   63/  100] | d_loss: 1.2351 | g_loss: 0.8888\n",
            "Epoch [   63/  100] | d_loss: 1.3477 | g_loss: 1.0076\n",
            "Epoch [   64/  100] | d_loss: 1.2276 | g_loss: 1.4436\n",
            "Epoch [   64/  100] | d_loss: 1.2677 | g_loss: 0.9227\n",
            "Epoch [   64/  100] | d_loss: 1.4107 | g_loss: 1.0563\n",
            "Epoch [   65/  100] | d_loss: 1.3524 | g_loss: 0.8038\n",
            "Epoch [   65/  100] | d_loss: 1.2709 | g_loss: 0.9022\n",
            "Epoch [   65/  100] | d_loss: 1.2676 | g_loss: 1.2787\n",
            "Epoch [   66/  100] | d_loss: 1.2745 | g_loss: 0.9359\n",
            "Epoch [   66/  100] | d_loss: 1.2245 | g_loss: 0.8691\n",
            "Epoch [   66/  100] | d_loss: 1.3378 | g_loss: 1.0363\n",
            "Epoch [   67/  100] | d_loss: 1.3056 | g_loss: 1.2134\n",
            "Epoch [   67/  100] | d_loss: 1.3550 | g_loss: 0.6895\n",
            "Epoch [   67/  100] | d_loss: 1.2263 | g_loss: 0.8849\n",
            "Epoch [   68/  100] | d_loss: 1.2332 | g_loss: 1.0287\n",
            "Epoch [   68/  100] | d_loss: 1.3926 | g_loss: 0.9339\n",
            "Epoch [   68/  100] | d_loss: 1.3752 | g_loss: 0.9621\n",
            "Epoch [   69/  100] | d_loss: 1.2009 | g_loss: 1.0090\n",
            "Epoch [   69/  100] | d_loss: 1.2660 | g_loss: 0.8612\n",
            "Epoch [   69/  100] | d_loss: 1.3712 | g_loss: 1.2082\n",
            "Epoch [   70/  100] | d_loss: 1.2985 | g_loss: 1.0138\n",
            "Epoch [   70/  100] | d_loss: 1.2488 | g_loss: 0.9753\n",
            "Epoch [   70/  100] | d_loss: 1.2710 | g_loss: 1.4543\n",
            "Epoch [   71/  100] | d_loss: 1.2880 | g_loss: 1.2534\n",
            "Epoch [   71/  100] | d_loss: 1.3318 | g_loss: 0.9627\n",
            "Epoch [   71/  100] | d_loss: 1.4178 | g_loss: 0.9535\n",
            "Epoch [   72/  100] | d_loss: 1.3221 | g_loss: 1.2896\n",
            "Epoch [   72/  100] | d_loss: 1.1811 | g_loss: 1.1017\n",
            "Epoch [   72/  100] | d_loss: 1.3228 | g_loss: 0.9707\n",
            "Epoch [   73/  100] | d_loss: 1.2847 | g_loss: 1.1941\n",
            "Epoch [   73/  100] | d_loss: 1.2588 | g_loss: 1.0248\n",
            "Epoch [   73/  100] | d_loss: 1.4529 | g_loss: 1.0203\n",
            "Epoch [   74/  100] | d_loss: 1.3921 | g_loss: 1.2164\n",
            "Epoch [   74/  100] | d_loss: 1.3330 | g_loss: 0.9408\n",
            "Epoch [   74/  100] | d_loss: 1.2670 | g_loss: 1.1150\n",
            "Epoch [   75/  100] | d_loss: 1.2366 | g_loss: 0.9165\n",
            "Epoch [   75/  100] | d_loss: 1.4875 | g_loss: 0.9720\n",
            "Epoch [   75/  100] | d_loss: 1.3819 | g_loss: 1.1300\n",
            "Epoch [   76/  100] | d_loss: 1.3066 | g_loss: 0.8400\n",
            "Epoch [   76/  100] | d_loss: 1.2226 | g_loss: 1.0571\n",
            "Epoch [   76/  100] | d_loss: 1.3815 | g_loss: 0.8755\n",
            "Epoch [   77/  100] | d_loss: 1.3364 | g_loss: 1.2277\n",
            "Epoch [   77/  100] | d_loss: 1.2007 | g_loss: 0.9783\n",
            "Epoch [   77/  100] | d_loss: 1.2103 | g_loss: 1.0010\n",
            "Epoch [   78/  100] | d_loss: 1.2406 | g_loss: 1.1613\n",
            "Epoch [   78/  100] | d_loss: 1.2474 | g_loss: 0.9125\n",
            "Epoch [   78/  100] | d_loss: 1.3288 | g_loss: 1.1184\n",
            "Epoch [   79/  100] | d_loss: 1.2946 | g_loss: 0.8170\n",
            "Epoch [   79/  100] | d_loss: 1.2048 | g_loss: 0.9800\n",
            "Epoch [   79/  100] | d_loss: 1.2348 | g_loss: 1.0922\n",
            "Epoch [   80/  100] | d_loss: 1.2909 | g_loss: 0.9110\n",
            "Epoch [   80/  100] | d_loss: 1.2842 | g_loss: 1.0067\n",
            "Epoch [   80/  100] | d_loss: 1.3758 | g_loss: 0.9297\n",
            "Epoch [   81/  100] | d_loss: 1.2295 | g_loss: 1.1688\n",
            "Epoch [   81/  100] | d_loss: 1.2529 | g_loss: 1.1170\n",
            "Epoch [   81/  100] | d_loss: 1.3488 | g_loss: 1.0480\n",
            "Epoch [   82/  100] | d_loss: 1.3523 | g_loss: 1.6454\n",
            "Epoch [   82/  100] | d_loss: 1.2193 | g_loss: 0.8877\n",
            "Epoch [   82/  100] | d_loss: 1.3482 | g_loss: 1.0470\n",
            "Epoch [   83/  100] | d_loss: 1.2641 | g_loss: 0.9590\n",
            "Epoch [   83/  100] | d_loss: 1.2727 | g_loss: 0.8898\n",
            "Epoch [   83/  100] | d_loss: 1.2533 | g_loss: 1.9975\n",
            "Epoch [   84/  100] | d_loss: 1.3651 | g_loss: 0.8769\n",
            "Epoch [   84/  100] | d_loss: 1.3001 | g_loss: 0.8956\n",
            "Epoch [   84/  100] | d_loss: 1.2727 | g_loss: 1.2894\n",
            "Epoch [   85/  100] | d_loss: 1.2725 | g_loss: 1.2188\n",
            "Epoch [   85/  100] | d_loss: 1.2289 | g_loss: 1.0665\n",
            "Epoch [   85/  100] | d_loss: 1.3120 | g_loss: 0.8818\n",
            "Epoch [   86/  100] | d_loss: 1.4053 | g_loss: 1.0150\n",
            "Epoch [   86/  100] | d_loss: 1.3098 | g_loss: 1.0219\n",
            "Epoch [   86/  100] | d_loss: 1.2746 | g_loss: 0.9010\n",
            "Epoch [   87/  100] | d_loss: 1.2428 | g_loss: 1.0951\n",
            "Epoch [   87/  100] | d_loss: 1.2317 | g_loss: 0.9303\n",
            "Epoch [   87/  100] | d_loss: 1.4007 | g_loss: 1.1110\n",
            "Epoch [   88/  100] | d_loss: 1.3184 | g_loss: 0.8498\n",
            "Epoch [   88/  100] | d_loss: 1.2582 | g_loss: 0.9313\n",
            "Epoch [   88/  100] | d_loss: 1.3247 | g_loss: 1.0374\n",
            "Epoch [   89/  100] | d_loss: 1.1684 | g_loss: 1.9449\n",
            "Epoch [   89/  100] | d_loss: 1.2671 | g_loss: 0.9170\n",
            "Epoch [   89/  100] | d_loss: 1.2522 | g_loss: 0.8947\n",
            "Epoch [   90/  100] | d_loss: 1.2477 | g_loss: 1.0525\n",
            "Epoch [   90/  100] | d_loss: 1.3007 | g_loss: 0.8559\n",
            "Epoch [   90/  100] | d_loss: 1.3171 | g_loss: 1.2614\n",
            "Epoch [   91/  100] | d_loss: 1.3044 | g_loss: 1.0884\n",
            "Epoch [   91/  100] | d_loss: 1.2551 | g_loss: 0.8423\n",
            "Epoch [   91/  100] | d_loss: 1.2716 | g_loss: 1.1253\n",
            "Epoch [   92/  100] | d_loss: 1.2718 | g_loss: 1.1207\n",
            "Epoch [   92/  100] | d_loss: 1.3128 | g_loss: 1.1044\n",
            "Epoch [   92/  100] | d_loss: 1.3752 | g_loss: 1.0274\n",
            "Epoch [   93/  100] | d_loss: 1.2917 | g_loss: 0.9357\n",
            "Epoch [   93/  100] | d_loss: 1.2796 | g_loss: 0.9623\n",
            "Epoch [   93/  100] | d_loss: 1.3437 | g_loss: 1.1562\n",
            "Epoch [   94/  100] | d_loss: 1.3126 | g_loss: 1.3194\n",
            "Epoch [   94/  100] | d_loss: 1.2975 | g_loss: 0.9916\n",
            "Epoch [   94/  100] | d_loss: 1.3045 | g_loss: 1.0153\n",
            "Epoch [   95/  100] | d_loss: 1.2336 | g_loss: 0.9029\n",
            "Epoch [   95/  100] | d_loss: 1.2100 | g_loss: 1.2870\n",
            "Epoch [   95/  100] | d_loss: 1.2121 | g_loss: 1.1264\n",
            "Epoch [   96/  100] | d_loss: 1.2728 | g_loss: 0.9773\n",
            "Epoch [   96/  100] | d_loss: 1.2948 | g_loss: 1.0486\n",
            "Epoch [   96/  100] | d_loss: 1.3011 | g_loss: 0.9173\n",
            "Epoch [   97/  100] | d_loss: 1.2566 | g_loss: 1.0279\n",
            "Epoch [   97/  100] | d_loss: 1.2442 | g_loss: 0.9697\n",
            "Epoch [   97/  100] | d_loss: 1.3288 | g_loss: 0.9611\n",
            "Epoch [   98/  100] | d_loss: 1.1734 | g_loss: 1.2867\n",
            "Epoch [   98/  100] | d_loss: 1.0722 | g_loss: 1.2390\n",
            "Epoch [   98/  100] | d_loss: 1.3149 | g_loss: 1.0663\n",
            "Epoch [   99/  100] | d_loss: 1.2803 | g_loss: 1.1302\n",
            "Epoch [   99/  100] | d_loss: 1.2224 | g_loss: 1.0469\n",
            "Epoch [   99/  100] | d_loss: 1.3524 | g_loss: 0.9086\n",
            "Epoch [  100/  100] | d_loss: 1.2619 | g_loss: 1.3146\n",
            "Epoch [  100/  100] | d_loss: 1.2890 | g_loss: 1.2112\n",
            "Epoch [  100/  100] | d_loss: 1.3820 | g_loss: 1.1753\n"
          ],
          "name": "stdout"
        }
      ]
    },
    {
      "cell_type": "markdown",
      "metadata": {
        "id": "v3CPKlFDvJM1"
      },
      "source": [
        "### Training loss\n",
        "Here we'll plot the training losses for the generator and discriminator, recorded after each epoch."
      ]
    },
    {
      "cell_type": "code",
      "metadata": {
        "trusted": true,
        "id": "oUeiKOeXvJM1",
        "colab": {
          "base_uri": "https://localhost:8080/",
          "height": 298
        },
        "outputId": "f64460bd-5831-4e25-b69a-bd30db8b8087"
      },
      "source": [
        "fig, ax = plt.subplots()\n",
        "losses = np.array(losses)\n",
        "plt.plot(losses.T[0], label='Discriminator')\n",
        "plt.plot(losses.T[1], label='Generator')\n",
        "plt.title(\"Training Losses\")\n",
        "\n",
        "plt.legend()"
      ],
      "execution_count": null,
      "outputs": [
        {
          "output_type": "execute_result",
          "data": {
            "text/plain": [
              "<matplotlib.legend.Legend at 0x7f48ab8b7780>"
            ]
          },
          "metadata": {
            "tags": []
          },
          "execution_count": 12
        },
        {
          "output_type": "display_data",
          "data": {
            "image/png": "[encoded data removed]",
            "text/plain": [
              "<Figure size 432x288 with 1 Axes>"
            ]
          },
          "metadata": {
            "tags": [],
            "needs_background": "light"
          }
        }
      ]
    },
    {
      "cell_type": "markdown",
      "metadata": {
        "id": "idXFNmTIvJM6"
      },
      "source": [
        "### Generator samples from training\n",
        "Here we can view samples of images from the generator. First we'll look at the images we saved during training"
      ]
    },
    {
      "cell_type": "code",
      "metadata": {
        "trusted": true,
        "id": "8l5EGkhbvJM7"
      },
      "source": [
        "# helper function for viewing a list of passed in sample images\n",
        "def view_samples(epoch, samples):\n",
        "    fig, axes = plt.subplots(figsize=(7,7), nrows=4, ncols=4, sharey=True, sharex=True)\n",
        "    for ax, img in zip(axes.flatten(), samples[epoch]):\n",
        "        img = img.detach()\n",
        "        ax.xaxis.set_visible(False)\n",
        "        ax.yaxis.set_visible(False)\n",
        "        im = ax.imshow(img.reshape((28,28)), cmap='Greys_r')"
      ],
      "execution_count": null,
      "outputs": []
    },
    {
      "cell_type": "code",
      "metadata": {
        "trusted": true,
        "id": "MOLV2yhbvJNA"
      },
      "source": [
        "# Load samples from generator, taken while training\n",
        "with open('train_samples.pkl', 'rb') as f:\n",
        "    samples = pkl.load(f)"
      ],
      "execution_count": null,
      "outputs": []
    },
    {
      "cell_type": "code",
      "metadata": {
        "trusted": true,
        "id": "2y3y-63NvJND",
        "colab": {
          "base_uri": "https://localhost:8080/",
          "height": 414
        },
        "outputId": "c530fe92-cc88-407e-817b-dbc4af704851"
      },
      "source": [
        "# -1 indicates final epoch's samples (the last in the list)\n",
        "view_samples(-1, samples)"
      ],
      "execution_count": null,
      "outputs": [
        {
          "output_type": "display_data",
          "data": {
            "image/png": "[encoded data removed]",
            "text/plain": [
              "<Figure size 504x504 with 16 Axes>"
            ]
          },
          "metadata": {
            "tags": [],
            "needs_background": "light"
          }
        }
      ]
    },
    {
      "cell_type": "markdown",
      "metadata": {
        "id": "Vq3EoVozvJNJ"
      },
      "source": [
        "### Generated Image for every 10 epochs"
      ]
    },
    {
      "cell_type": "code",
      "metadata": {
        "trusted": true,
        "id": "eqoLNuuLvJNJ",
        "colab": {
          "base_uri": "https://localhost:8080/",
          "height": 686
        },
        "outputId": "8213dbfb-e5ce-48c5-e985-a2368bc7e2c0"
      },
      "source": [
        "rows = 10 # split epochs into 10, so 100/10 = every 10 epochs\n",
        "cols = 6\n",
        "fig, axes = plt.subplots(figsize=(7,12), nrows=rows, ncols=cols, sharex=True, sharey=True)\n",
        "\n",
        "for sample, ax_row in zip(samples[::int(len(samples)/rows)], axes):\n",
        "    for img, ax in zip(sample[::int(len(sample)/cols)], ax_row):\n",
        "        img = img.detach()\n",
        "        ax.imshow(img.reshape((28,28)), cmap='Greys_r')\n",
        "        ax.xaxis.set_visible(False)\n",
        "        ax.yaxis.set_visible(False)"
      ],
      "execution_count": null,
      "outputs": [
        {
          "output_type": "display_data",
          "data": {
            "image/png": "[encoded data removed]",
            "text/plain": [
              "<Figure size 504x864 with 60 Axes>"
            ]
          },
          "metadata": {
            "tags": [],
            "needs_background": "light"
          }
        }
      ]
    },
    {
      "cell_type": "markdown",
      "metadata": {
        "id": "R2wSatqovJNO"
      },
      "source": [
        "\n",
        "It starts out as all noise. Then it learns to make only the center white and the rest black. You can start to see some number like structures appear out of the noise like 1s and 9s."
      ]
    }
  ]
}